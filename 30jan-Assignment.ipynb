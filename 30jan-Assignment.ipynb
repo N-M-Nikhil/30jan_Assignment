{
 "cells": [
  {
   "cell_type": "code",
   "execution_count": 1,
   "id": "0e151927-df78-4c51-a36b-e9df06c7d20a",
   "metadata": {},
   "outputs": [
    {
     "name": "stdin",
     "output_type": "stream",
     "text": [
      " 50\n"
     ]
    },
    {
     "name": "stdout",
     "output_type": "stream",
     "text": [
      "Grade = D\n"
     ]
    }
   ],
   "source": [
    "# Q.1:Answer\n",
    "Percentage = int(input())\n",
    "if Percentage>90:\n",
    "    print('Grade = A')\n",
    "elif Percentage>80 and Percentage<=90:\n",
    "    print('Grade = B')\n",
    "elif Percentage>=60 and Percentage<=80:\n",
    "    print('Grade = C')\n",
    "elif Percentage<60:\n",
    "    print('Grade = D')"
   ]
  },
  {
   "cell_type": "code",
   "execution_count": 2,
   "id": "b378d5f2-e961-4a1a-bc39-0d855dccad71",
   "metadata": {},
   "outputs": [
    {
     "name": "stdin",
     "output_type": "stream",
     "text": [
      " 5000\n"
     ]
    },
    {
     "name": "stdout",
     "output_type": "stream",
     "text": [
      "road_tax = 5%\n"
     ]
    }
   ],
   "source": [
    "# Q.2:Answer\n",
    "cost_price = int(input())\n",
    "if cost_price>100000:\n",
    "    print('road_tax = 15%')\n",
    "elif cost_price>50000 and cosr_price<=100000:\n",
    "    print('road_tax = 10%')\n",
    "elif cost_price<=50000:\n",
    "    print('road_tax = 5%')"
   ]
  },
  {
   "cell_type": "code",
   "execution_count": 3,
   "id": "dabcacf9-02ae-459d-8686-d5f83ad0f2cd",
   "metadata": {},
   "outputs": [
    {
     "name": "stdin",
     "output_type": "stream",
     "text": [
      " Agra\n"
     ]
    },
    {
     "name": "stdout",
     "output_type": "stream",
     "text": [
      "Taj Mahal\n"
     ]
    }
   ],
   "source": [
    "# Q.3:Answer\n",
    "city = input()\n",
    "if city == 'Delhi':\n",
    "    print('Red Fort')\n",
    "elif city == 'Agra':\n",
    "    print('Taj Mahal')\n",
    "elif city == 'Jaipur':\n",
    "    print('Jal Mahal')"
   ]
  },
  {
   "cell_type": "code",
   "execution_count": 4,
   "id": "ccd22e79-7b3b-4b83-a0f1-79088fbb021d",
   "metadata": {},
   "outputs": [
    {
     "name": "stdin",
     "output_type": "stream",
     "text": [
      " 30\n"
     ]
    },
    {
     "name": "stdout",
     "output_type": "stream",
     "text": [
      "The number can be divisible by '3' 1 times\n"
     ]
    }
   ],
   "source": [
    "# Q.4:Answer\n",
    "n = int(input()) \n",
    "\n",
    "if n % 3 != 0:\n",
    "    print(\"Entered number is not divisible by 3\")\n",
    "\n",
    "if n % 3 == 0 and n > 10 :\n",
    "    count = 0 \n",
    "    while (n > 10) :\n",
    "        n = n / 3\n",
    "        count += 1\n",
    "    print(\"The number can be divisible by '3'\", count,'times')\n",
    "\n",
    "if n % 3 == 0 and n < 10 and n > 0 :\n",
    "    print(\"The number can be divided 1 time only\")"
   ]
  },
  {
   "cell_type": "code",
   "execution_count": 5,
   "id": "3192e1ed-1cb3-4bba-a1d9-bdae81a6f31e",
   "metadata": {},
   "outputs": [
    {
     "name": "stdout",
     "output_type": "stream",
     "text": [
      "0\n",
      "1\n",
      "2\n",
      "3\n",
      "4\n",
      "5\n",
      "6\n",
      "7\n",
      "8\n",
      "9\n"
     ]
    }
   ],
   "source": [
    "# Q.5:Answer\n",
    "# While loop is used to run a block code when the ending or number of times of execution is not defined instead we are able to end the loop on a codition.\n",
    "# for example:\n",
    "i = 0\n",
    "while i<10:\n",
    "    print(i)\n",
    "    i=i+1\n",
    "    \n"
   ]
  },
  {
   "cell_type": "code",
   "execution_count": 6,
   "id": "fa6a732b-7606-4644-81c7-4106a9c4dcfd",
   "metadata": {},
   "outputs": [
    {
     "name": "stdout",
     "output_type": "stream",
     "text": [
      "* * * * \n",
      "* * * * \n",
      "* * * * \n",
      "* * * * \n"
     ]
    }
   ],
   "source": [
    "# Q.6.1(First pattern):Answer\n",
    "i = 1\n",
    "while i<=4:\n",
    "    j = 1\n",
    "    while j<=4:\n",
    "        print('*',end=' ')\n",
    "        j+=1\n",
    "    print()\n",
    "    i+=1"
   ]
  },
  {
   "cell_type": "code",
   "execution_count": 7,
   "id": "80c49714-3ded-4c61-b3c3-0c84806cbb5b",
   "metadata": {},
   "outputs": [
    {
     "name": "stdout",
     "output_type": "stream",
     "text": [
      "* \n",
      "* * \n",
      "* * * \n",
      "* * * * \n",
      "* * * * * \n"
     ]
    }
   ],
   "source": [
    "# Q.6.2(Second pattern):Answer\n",
    "i = 1\n",
    "while i<=5:\n",
    "    j = 1\n",
    "    while j<=i:\n",
    "        print('*',end=' ')\n",
    "        j+=1\n",
    "    print()\n",
    "    i+=1"
   ]
  },
  {
   "cell_type": "code",
   "execution_count": 8,
   "id": "6b038b7d-ec7b-47da-82e6-c04b48b7a7f8",
   "metadata": {},
   "outputs": [
    {
     "name": "stdout",
     "output_type": "stream",
     "text": [
      "1 \n",
      "2 2 \n",
      "3 3 3 \n",
      "4 4 4 4 \n",
      "5 5 5 5 5 \n"
     ]
    }
   ],
   "source": [
    "# Q.6.3(Third pattern):Answer\n",
    "i = 1\n",
    "while i<=5:\n",
    "    j = 1\n",
    "    while j<=i:\n",
    "        print(i,end=' ')\n",
    "        j+=1\n",
    "    print()\n",
    "    i+=1"
   ]
  },
  {
   "cell_type": "code",
   "execution_count": 9,
   "id": "0e087762-1ebf-4c87-9975-626f6f014085",
   "metadata": {},
   "outputs": [
    {
     "name": "stdout",
     "output_type": "stream",
     "text": [
      "10\n",
      "9\n",
      "8\n",
      "7\n",
      "6\n",
      "5\n",
      "4\n",
      "3\n",
      "2\n",
      "1\n"
     ]
    }
   ],
   "source": [
    "# Q.7:Answer\n",
    "i=10\n",
    "while i>=1:\n",
    "    print(i)\n",
    "    i=i-1"
   ]
  },
  {
   "cell_type": "code",
   "execution_count": 10,
   "id": "09189cd9-e73d-4b30-93d2-59eeccefabcd",
   "metadata": {},
   "outputs": [
    {
     "name": "stdout",
     "output_type": "stream",
     "text": [
      "10\n",
      "9\n",
      "8\n",
      "7\n",
      "6\n",
      "5\n",
      "4\n",
      "3\n",
      "2\n",
      "1\n"
     ]
    }
   ],
   "source": [
    "# Q.8:Answer\n",
    "i=10\n",
    "while i>=1:\n",
    "    print(i)\n",
    "    i=i-1"
   ]
  },
  {
   "cell_type": "code",
   "execution_count": null,
   "id": "8cef5909-3d5f-4386-8123-3fb1c9c5025a",
   "metadata": {},
   "outputs": [],
   "source": []
  }
 ],
 "metadata": {
  "kernelspec": {
   "display_name": "Python 3 (ipykernel)",
   "language": "python",
   "name": "python3"
  },
  "language_info": {
   "codemirror_mode": {
    "name": "ipython",
    "version": 3
   },
   "file_extension": ".py",
   "mimetype": "text/x-python",
   "name": "python",
   "nbconvert_exporter": "python",
   "pygments_lexer": "ipython3",
   "version": "3.10.8"
  }
 },
 "nbformat": 4,
 "nbformat_minor": 5
}
